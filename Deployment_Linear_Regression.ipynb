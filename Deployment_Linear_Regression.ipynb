{
 "cells": [
  {
   "cell_type": "code",
   "execution_count": 7,
   "metadata": {},
   "outputs": [],
   "source": [
    "# DEPLOYMENT PHASE ...\n",
    "# loading the saved model in a seperate folder , which has been given to front end developer to create a user friendly interface for end user \n",
    "\n",
    "import pickle as pk         # importing pickle library to load model\n",
    "load= pk.load(open(\"finalyzed_model.sav\",\"rb\"))    #loading our model using pickle libraries method called 'load' which has two parameters => file name and read binary.\n"
   ]
  },
  {
   "cell_type": "code",
   "execution_count": 11,
   "metadata": {},
   "outputs": [
    {
     "name": "stdout",
     "output_type": "stream",
     "text": [
      "The years of experience is : 35 and the predicted salary is [[352720.22858615]]\n"
     ]
    },
    {
     "name": "stderr",
     "output_type": "stream",
     "text": [
      "c:\\Python\\Lib\\site-packages\\sklearn\\base.py:493: UserWarning: X does not have valid feature names, but LinearRegression was fitted with feature names\n",
      "  warnings.warn(\n"
     ]
    }
   ],
   "source": [
    "input_from_user = int(input(\"Enter the Years of Experience : \"))     # getting manual input from the user for thier convenience and user satisfaction\n",
    "deploy_result = load.predict([[input_from_user]])       # this line will helps our model to predict the output for user given input \n",
    "year = print(f\"The years of experience is : {input_from_user} and the predicted salary is {deploy_result}\")     # here the output is displayed to the end user"
   ]
  },
  {
   "cell_type": "code",
   "execution_count": null,
   "metadata": {},
   "outputs": [],
   "source": []
  }
 ],
 "metadata": {
  "kernelspec": {
   "display_name": "base",
   "language": "python",
   "name": "python3"
  },
  "language_info": {
   "codemirror_mode": {
    "name": "ipython",
    "version": 3
   },
   "file_extension": ".py",
   "mimetype": "text/x-python",
   "name": "python",
   "nbconvert_exporter": "python",
   "pygments_lexer": "ipython3",
   "version": "3.12.7"
  }
 },
 "nbformat": 4,
 "nbformat_minor": 2
}
